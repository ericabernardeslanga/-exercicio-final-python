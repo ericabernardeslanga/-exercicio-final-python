{
  "nbformat": 4,
  "nbformat_minor": 0,
  "metadata": {
    "colab": {
      "provenance": [],
      "authorship_tag": "ABX9TyO4r6Uh/yEgZ3/KfM8tpGI9",
      "include_colab_link": true
    },
    "kernelspec": {
      "name": "python3",
      "display_name": "Python 3"
    },
    "language_info": {
      "name": "python"
    }
  },
  "cells": [
    {
      "cell_type": "markdown",
      "metadata": {
        "id": "view-in-github",
        "colab_type": "text"
      },
      "source": [
        "<a href=\"https://colab.research.google.com/github/ericabernardeslanga/-exercicio-final-python/blob/main/exercicio-final-python.ipynb\" target=\"_parent\"><img src=\"https://colab.research.google.com/assets/colab-badge.svg\" alt=\"Open In Colab\"/></a>"
      ]
    },
    {
      "cell_type": "markdown",
      "source": [
        "Criar uma Classe Livro\n",
        "\n",
        "● A classe deve conter os seguintes atributos:\n",
        "○ titulo (string)\n",
        "○ autor (string)\n",
        "○ disponivel (boolean – deve iniciar como True)\n",
        "\n",
        "● A classe deve conter um método:\n",
        "○ emprestar() – que altera disponivel para False\n"
      ],
      "metadata": {
        "id": "6xwqzc6ozj_P"
      }
    },
    {
      "cell_type": "code",
      "source": [
        "# Criando  a classe Livro\n",
        "class Livro:\n",
        "    def __init__(self, titulo, autor):\n",
        "        self.titulo = titulo #atributo\n",
        "        self.autor = autor #atributo\n",
        "        self.disponivel = True #atributo\n",
        "\n",
        "    def emprestar(self): #metodo emprestar\n",
        "        self.disponivel = False"
      ],
      "metadata": {
        "id": "ruWsXdcjzzpz"
      },
      "execution_count": 21,
      "outputs": []
    },
    {
      "cell_type": "code",
      "source": [
        "# Criando objetos da classe livros\n",
        "livro1 = Livro(\"Olhos D'Água\", \"Conceição Evaristo\")\n",
        "livro2 = Livro(\"Quarto de despejo\", \"Carolina Maria de Jesus\")\n",
        "livro3 = Livro(\"Racismo Algorítmico: inteligência artificial e discriminação em redes digitais\", \"Tarcizio Silva\")\n"
      ],
      "metadata": {
        "id": "cSpq5Qvv0Moh"
      },
      "execution_count": 22,
      "outputs": []
    },
    {
      "cell_type": "code",
      "source": [
        "biblioteca = [livro1, livro2, livro3] #armazena livros na lista biblioteca"
      ],
      "metadata": {
        "id": "OzBwpMnz1HG1"
      },
      "execution_count": 23,
      "outputs": []
    },
    {
      "cell_type": "code",
      "source": [
        "# Loop para emprestar o livro com título \"Racismo Algorítmico: inteligência artificial e discriminação em redes digitais\"\n",
        "for livro in biblioteca:\n",
        "    if livro.titulo == \"Racismo Algorítmico: inteligência artificial e discriminação em redes digitais\":\n",
        "        livro.emprestar()  # empresta o livro dentro do loop chamando metodo emprestar\n",
        "\n",
        "# Imprimir o status de todos os livros, Olhos D'Água e Quarto de despejo devem apresentar status disponiveis = True\n",
        "for livro in biblioteca:\n",
        "    print(f\"{livro.titulo} - Disponível: {livro.disponivel}\")"
      ],
      "metadata": {
        "colab": {
          "base_uri": "https://localhost:8080/"
        },
        "id": "q5WAXzk51Poc",
        "outputId": "56303527-110b-431c-f79d-3b6ba4c31e03"
      },
      "execution_count": 24,
      "outputs": [
        {
          "output_type": "stream",
          "name": "stdout",
          "text": [
            "Olhos D'Água - Disponível: True\n",
            "Quarto de despejo - Disponível: True\n",
            "Racismo Algorítmico: inteligência artificial e discriminação em redes digitais - Disponível: False\n"
          ]
        }
      ]
    },
    {
      "cell_type": "markdown",
      "source": [
        "● Crie um array NumPy com o número de páginas dos livros (ex: [200, 328, 96]).\n",
        "\n",
        "● Use Boolean Masking para filtrar e exibir os livros com mais de 100 páginas.\n",
        "\n"
      ],
      "metadata": {
        "id": "u2nsD5QW_Ty6"
      }
    },
    {
      "cell_type": "code",
      "source": [
        "import numpy as np\n",
        "\n",
        "paginas = np.array([116, 200, 268])\n",
        "titulos = np.array([livro.titulo for livro in biblioteca])\n",
        "\n",
        "filtro = paginas > 200\n",
        "print(\"\\nLivros com mais de 200 páginas:\")\n",
        "print(titulos[filtro])"
      ],
      "metadata": {
        "colab": {
          "base_uri": "https://localhost:8080/"
        },
        "id": "79HO_tRE_SuQ",
        "outputId": "9fbcc8bc-c064-485f-9289-795c4cee915f"
      },
      "execution_count": 25,
      "outputs": [
        {
          "output_type": "stream",
          "name": "stdout",
          "text": [
            "\n",
            "Livros com mais de 200 páginas:\n",
            "['Racismo Algorítmico: inteligência artificial e discriminação em redes digitais']\n"
          ]
        }
      ]
    },
    {
      "cell_type": "markdown",
      "source": [
        "● Crie um array NumPy com os anos fictícios de publicação dos livros (ex: [1899,\n",
        "1949, 1943]).\n",
        "\n",
        "● Crie uma função que receba esse array e retorne a média dos anos de publicação.\n"
      ],
      "metadata": {
        "id": "pV-ZS_e_AcOL"
      }
    },
    {
      "cell_type": "code",
      "source": [
        "anos_publicacao = np.array([2014, 1960, 2022]) # Criação de um array NumPy com os anos de publicação dos livros\n",
        "\n",
        "\n",
        "def media_anos_publicacao(anos): # Função que calcula a média dos anos recebidos como argumento\n",
        "\n",
        "    return np.mean(anos)\n",
        "\n",
        "print(\"\\nMédia dos anos de publicação:\", media_anos_publicacao(anos_publicacao)) # Chama a função e imprime a média dos anos de publicação\n"
      ],
      "metadata": {
        "colab": {
          "base_uri": "https://localhost:8080/"
        },
        "id": "uVBLkSfZAiou",
        "outputId": "c62bd18d-6689-4663-e49c-98361ce2972e"
      },
      "execution_count": 26,
      "outputs": [
        {
          "output_type": "stream",
          "name": "stdout",
          "text": [
            "\n",
            "Média dos anos de publicação: 1998.6666666666667\n"
          ]
        }
      ]
    }
  ]
}